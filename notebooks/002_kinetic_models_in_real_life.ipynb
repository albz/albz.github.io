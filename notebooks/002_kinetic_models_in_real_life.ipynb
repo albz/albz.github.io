{
 "cells": [
  {
   "outputs": [],
   "cell_type": "markdown",
   "source": [
    "# kinetic models in real life"
   ],
   "metadata": {}
  },
  {
   "outputs": [],
   "cell_type": "markdown",
   "source": [
    ">In this post I'll introduce **computer based kinetic models** and how to apply them to real-life problems."
   ],
   "metadata": {}
  },
  {
   "outputs": [],
   "cell_type": "markdown",
   "source": [
    ">To give an intuitive hint about *kinetic models* and their applications we might think about gossip spreading. While classial statistics might give the information that 1% of the people knows the gossip but cannot tell you who is this *person that knows it*, kinetic modelling is trying to find out who is this exact person."
   ],
   "metadata": {}
  },
  {
   "outputs": [],
   "cell_type": "markdown",
   "source": [
    ">While statistics tell you that there will be a Martin Luther King every 100 years, kinetic modelling is trying to tell you who's gonna be."
   ],
   "metadata": {}
  },
  {
   "outputs": [],
   "cell_type": "markdown",
   "source": [
    "Instead of giving a formal mathematical definition, we might want to uvail this concept with an example construction. Instead of referring to some epidemiologic model, e.g. a hillness speading, despite pertinet sounds less dramatic and sillier to image how a given gossip can spread from person to person.\n",
    "Intuitively what we are planning to do is rather simple. One person, in a room, knows a gossip and meeting with a colleague share such a piece of gossip. Now te two people moving in room will eventually meet with other two colleagues and the gossip will be shared among four people. And clearly, so on.\n",
    "The room example is intuitive enought and allow for smooth programming without many technicalities, still it misses the most of the model: the gossip being broght outside of the room to a pub, to a different building, to people above some age since the too youngs cannot be interested, and so on.\n",
    "It is rather important that while the kinetic effects are important, we still want to measure some fluid (or aggregated) quantities, such as the total number of people aware of the gossip and\n",
    "the radius of influence of the gossip. How far is the gossip spreading? These models can answer this question."
   ],
   "metadata": {}
  },
  {
   "outputs": [],
   "cell_type": "markdown",
   "source": [
    "let's place 100 people in a room,"
   ],
   "metadata": {}
  },
  {
   "outputs": [
    {
     "output_type": "execute_result",
     "data": {
      "text/plain": "1000-element Array{Array{Float64,1},1}:\n [0.19732, 0.69682, 1.0]    \n [0.249088, 0.349042, 0.0]  \n [0.452812, 0.39056, 0.0]   \n [0.310087, 0.394606, 0.0]  \n [0.273552, 0.549899, 0.0]  \n [0.586987, 0.60898, 0.0]   \n [0.30083, 0.201062, 0.0]   \n [0.860331, 0.906702, 0.0]  \n [0.881616, 0.234556, 0.0]  \n [0.0363823, 0.302327, 0.0] \n [0.118132, 0.482225, 0.0]  \n [0.704708, 0.729462, 0.0]  \n [0.528727, 0.503401, 0.0]  \n ⋮                          \n [0.621189, 0.0723229, 0.0] \n [0.209703, 0.953571, 0.0]  \n [0.969587, 0.964949, 0.0]  \n [0.929025, 0.00156805, 0.0]\n [0.699904, 0.625652, 0.0]  \n [0.627434, 0.116662, 0.0]  \n [0.271617, 0.616969, 0.0]  \n [0.183527, 0.619157, 0.0]  \n [0.933236, 0.937092, 0.0]  \n [0.280302, 0.327546, 0.0]  \n [0.0247935, 0.664384, 0.0] \n [0.73219, 0.260472, 0.0]   "
     },
     "metadata": {},
     "execution_count": 1
    }
   ],
   "cell_type": "code",
   "source": [
    "using Plots\n",
    "n_people=1000\n",
    "x, y, flag=rand(n_people), rand(n_people), zeros(n_people)\n",
    "people = zeros(n_people,3)\n",
    "flag[1]=1\n",
    "[people[i,:]=[x[i],y[i],flag[i]] for i=1:n_people]"
   ],
   "metadata": {},
   "execution_count": 1
  },
  {
   "outputs": [],
   "cell_type": "markdown",
   "source": [
    "and gather the information in a matrix *people* with 3 columns. The first column contains the person position along the *x* direction, the second along the *y* direction and the third a flag that track if the person is a ware of the gossip *flag=1* or not *flag=0*.\n",
    "We want to set up this function to plot people position,"
   ],
   "metadata": {}
  },
  {
   "outputs": [],
   "cell_type": "code",
   "source": [
    "function plot_(people)\n",
    "    rectangle(x, y, w, h) = Shape(x .+ [0,w,w,0], y .+ [0,0,h,h])\n",
    "    plot(rectangle(0,0,1,1), fill=\"white\", xlim=(-.2,1.2), ylim=(-.2,1.2), background_color=RGB(0.2,0.2,0.2), label=\"room\")\n",
    "    scatter!( people[ findall(x->x==0., people[:,3]) ,1], people[ findall(x->x==0., people[:,3]) ,2], color=\"rgb(234, 153, 153)\", shape=:circle, ms=8, label=\"not aware\")\n",
    "    scatter!( people[ findall(x->x==1., people[:,3]) ,1], people[ findall(x->x==1., people[:,3]) ,2], color=\"rgb(119, 221, 119)\", shape=:square, ms=8, label=\"aware\")\n",
    "end\n",
    "plot_(people)\n",
    "savefig(\".\\\\002_kinetic_models_in_real_life_01.svg\")"
   ],
   "metadata": {},
   "execution_count": 2
  },
  {
   "outputs": [],
   "cell_type": "markdown",
   "source": [
    "![dots and squares](_img\\002_kinetic_models_in_real_life/002_kinetic_models_in_real_life_01.svg)"
   ],
   "metadata": {}
  },
  {
   "outputs": [],
   "cell_type": "markdown",
   "source": [
    "We plot with a circle a person that is not aware of the gossip and with a *square* the persons that are aware."
   ],
   "metadata": {}
  },
  {
   "outputs": [],
   "cell_type": "markdown",
   "source": [
    "We now create a function *move_()* that advance people position."
   ],
   "metadata": {}
  },
  {
   "outputs": [
    {
     "output_type": "execute_result",
     "data": {
      "text/plain": "move_ (generic function with 1 method)"
     },
     "metadata": {},
     "execution_count": 3
    }
   ],
   "cell_type": "code",
   "source": [
    "function move_(people)\n",
    "    for idx = 1:size(people)[1]\n",
    "        people[idx,:]= [ people[idx,1]+rand()*0.01, people[idx,2]+rand()*0.01, people[idx,3] ]\n",
    "        if people[idx,1] > 1.\n",
    "            people[idx,1] = 1-people[idx,1]\n",
    "        end\n",
    "        if people[idx,1] < 0.\n",
    "            people[idx,1] = -people[idx,1]\n",
    "        end\n",
    "        if people[idx,2] > 1.\n",
    "            people[idx,2] = 1-people[idx,2]\n",
    "        end\n",
    "        if people[idx,2] < 0.\n",
    "            people[idx,2] = -people[idx,2]\n",
    "        end\n",
    "    end\n",
    "    return people\n",
    "end"
   ],
   "metadata": {},
   "execution_count": 3
  },
  {
   "outputs": [],
   "cell_type": "markdown",
   "source": [
    "Despite a person trajectory depends on what the person is doing, the person is going to a colleague or to the printer, so shoud have a given trajectory depending on the schope we simplify by assuming that\n",
    "a person new position only depends on the present position and his advancment is normal distributed both in *x* and *y*. This assumption, goes, alongside with the assumption (for the moment) that points are volumeless and do not hit one another.\n",
    "These simplifications are operated to focus our attention on the *collision operator*, when two points are close enought the two people interact and if one of the persons is aware of the gossip shares it."
   ],
   "metadata": {}
  },
  {
   "outputs": [
    {
     "output_type": "execute_result",
     "data": {
      "text/plain": "collision_ (generic function with 1 method)"
     },
     "metadata": {},
     "execution_count": 4
    }
   ],
   "cell_type": "code",
   "source": [
    "function collision_(people)\n",
    "    new_flag = zeros( size(people)[1] )\n",
    "    for idx = 1:size(people)[1]\n",
    "        if people[idx,3] == 1.\n",
    "            distances = ( (people[:,1].-people[idx,1]).^2 .+ (people[:,2].-people[idx,2]).^2 ).^0.5\n",
    "            distances = (distances .< 0.05)\n",
    "            new_flag[distances] .= 1\n",
    "        end\n",
    "    end\n",
    "    people[:,3] = new_flag\n",
    "    return people\n",
    "end"
   ],
   "metadata": {},
   "execution_count": 4
  },
  {
   "outputs": [],
   "cell_type": "markdown",
   "source": [
    "Let's adavance the system and let's check its evolution."
   ],
   "metadata": {}
  },
  {
   "outputs": [],
   "cell_type": "code",
   "source": [
    "for time = 1:10\n",
    "    move_(people)\n",
    "    collision_(people)\n",
    "end\n",
    "plot_(people)\n",
    "savefig(\".\\\\002_kinetic_models_in_real_life_02.svg\")"
   ],
   "metadata": {},
   "execution_count": 5
  },
  {
   "outputs": [],
   "cell_type": "markdown",
   "source": [
    "#A brief disquisition on the underlying math\n",
    "What I personally like about kinetic models is the possibility to explain them in simple words with down to heath example.\n",
    "I reckon the gossip example is rather simple, eventually funny, and intuitively simple. The underlying math follow a different formalism known as Bolzmann's statistics.\n",
    "A person, that we have represented with a circle or eventually a square, can be modelled mathematically as a Dirac Delta centered where the person is,\n",
    "\\begin{equation}\n",
    "p(x_i) = \\delta(x-x_i) , i=1,...,N\n",
    "\\end{equation}\n",
    "Since each person p(x_i) has also a velocity, he/she moves, we can also add a velocity attribute with the same appraoch,\n",
    "\\begin{equation}\n",
    "p(x_i) = \\delta(x-x_i) \\delta(v-v_i) , i=1,...,N\n",
    "\\end{equation}"
   ],
   "metadata": {}
  },
  {
   "outputs": [],
   "cell_type": "markdown",
   "source": [
    "-----------------"
   ],
   "metadata": {}
  },
  {
   "outputs": [],
   "cell_type": "markdown",
   "source": [
    "*This notebook was generated using [Literate.jl](https://github.com/fredrikekre/Literate.jl).*"
   ],
   "metadata": {}
  }
 ],
 "nbformat_minor": 3,
 "metadata": {
  "language_info": {
   "file_extension": ".jl",
   "mimetype": "application/julia",
   "name": "julia",
   "version": "1.0.2"
  },
  "kernelspec": {
   "name": "julia-1.0",
   "display_name": "Julia 1.0.2",
   "language": "julia"
  }
 },
 "nbformat": 4
}
